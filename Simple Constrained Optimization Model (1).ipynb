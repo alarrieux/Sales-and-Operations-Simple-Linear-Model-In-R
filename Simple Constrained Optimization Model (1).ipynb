{
 "cells": [
  {
   "cell_type": "markdown",
   "metadata": {},
   "source": [
    "# Jupyter Notebook Optimization model using Linear Programming in R\n",
    "\n",
    "\n",
    "**Description**:Linear Programming is extensively used as a quantitative method for optimization. Its origin dates back to 1937.  It was developed as a technique for planning expenditures and returns in order to optimize cost. LP is useful in a wide variety of situations, while maintaining a simple framework.\n",
    "\n",
    "**Purpose**: This notebook provides a template for solving optimization problems. It highlights how one can go about formulating the problem in order to use the functions within the lpsolve package to obtain a result that meets all of the given constraints\n",
    "\n",
    "\n",
    "\n",
    "Imagine you are on an engagement where a company has two products, A and B. First the constraints(\"Budget\") are outlined. Each unit of  A  consumes 30 working hours and each unit of B consumes 20 working hours. The limit of working hours is 2700 hours\n",
    "\n",
    "Additionally lets assume their is restriction to how long the machines used to produce the products can run. Each unit of product A consumes 5 machine hours and for product B 10 machine hours are consumed. Lets assume there is a limit of 850 hours for the machine \n",
    "\n",
    "Lastly, for technical reasons, the business must produce a minimum of 95 units between both products. Now how many units of product A and B must be produced in order to maximize total profits? \n",
    "\n",
    "Now that we have our objective function  and our parameters, lets formulate the problem.\n",
    "\n",
    "\n",
    "* Max(z)= 20A+ 60B\n",
    "* st(subject to the below constraints)\n",
    " * WH 30A+20B <= 2700 \n",
    " * MH 5A+ 10B <= 850\n",
    " * PM A+B >= 95\n",
    " * A >=0, B >= 0\n",
    "  \n",
    "  \n",
    "  # Dependencies\n",
    "  \n",
    "  Load the package for model development\n",
    "  * lpSolve"
   ]
  },
  {
   "cell_type": "markdown",
   "metadata": {},
   "source": [
    "First we will need to install the lpsolve package from R. Addtional information about the package can be found on https://cran.r-project.org/web/packages/lpSolve/lpSolve.pdf\n",
    "\n",
    "https://cran.r-project.org/web/packages/ggplot2/ggplot2.pdf\n",
    "\n",
    "https://cran.r-project.org/web/packages/igraph/igraph.pdf\n",
    "\n",
    "once the package is loaded we will start by setting the objective function"
   ]
  },
  {
   "cell_type": "code",
   "execution_count": 1,
   "metadata": {},
   "outputs": [
    {
     "name": "stdout",
     "output_type": "stream",
     "text": [
      "package 'lpSolve' successfully unpacked and MD5 sums checked\n",
      "\n",
      "The downloaded binary packages are in\n",
      "\tC:\\Users\\alarrieux001\\AppData\\Local\\Temp\\RtmpqCG1w1\\downloaded_packages\n"
     ]
    },
    {
     "name": "stderr",
     "output_type": "stream",
     "text": [
      "Warning message:\n",
      "\"package 'lpSolve' was built under R version 3.5.2\""
     ]
    }
   ],
   "source": [
    "#install.packages(\"lpsolve\")\n",
    "install.packages(\"lpSolve\",repos=\"http://cran.rstudio.com/\")\n",
    "library(lpSolve)\n"
   ]
  },
  {
   "cell_type": "code",
   "execution_count": 9,
   "metadata": {},
   "outputs": [
    {
     "name": "stdout",
     "output_type": "stream",
     "text": [
      "package 'ggplot2' successfully unpacked and MD5 sums checked\n",
      "\n",
      "The downloaded binary packages are in\n",
      "\tC:\\Users\\alarrieux001\\AppData\\Local\\Temp\\RtmpqCG1w1\\downloaded_packages\n"
     ]
    },
    {
     "name": "stderr",
     "output_type": "stream",
     "text": [
      "Warning message:\n",
      "\"package 'ggplot2' was built under R version 3.5.3\""
     ]
    }
   ],
   "source": [
    "install.packages(\"ggplot2\",repos=\"http://cran.rstudio.com/\")\n",
    "library(\"ggplot2\")\n"
   ]
  },
  {
   "cell_type": "code",
   "execution_count": 1,
   "metadata": {},
   "outputs": [
    {
     "name": "stdout",
     "output_type": "stream",
     "text": [
      "package 'igraph' successfully unpacked and MD5 sums checked\n",
      "\n",
      "The downloaded binary packages are in\n",
      "\tC:\\Users\\alarrieux001\\AppData\\Local\\Temp\\Rtmpesuc4h\\downloaded_packages\n"
     ]
    },
    {
     "name": "stderr",
     "output_type": "stream",
     "text": [
      "Warning message:\n",
      "\"package 'igraph' was built under R version 3.5.3\"\n",
      "Attaching package: 'igraph'\n",
      "\n",
      "The following objects are masked from 'package:stats':\n",
      "\n",
      "    decompose, spectrum\n",
      "\n",
      "The following object is masked from 'package:base':\n",
      "\n",
      "    union\n",
      "\n"
     ]
    }
   ],
   "source": [
    "install.packages(\"igraph\", repos =\"http://cran.rstudio.com/\")\n",
    "library(\"igraph\")"
   ]
  },
  {
   "cell_type": "markdown",
   "metadata": {},
   "source": [
    "Note: Once you have installed the package and loaded it, you can add a # in front in order to comment them out. This is done, so the package is not reinstalled when going through the code again.(e.g #install.packages(\"lpSolve\",repos=\"http://cran.rstudio.com/\")"
   ]
  },
  {
   "cell_type": "markdown",
   "metadata": {},
   "source": [
    "Set up your objective function"
   ]
  },
  {
   "cell_type": "code",
   "execution_count": null,
   "metadata": {},
   "outputs": [],
   "source": [
    "objective.in <- c(20,60)\n",
    "\n"
   ]
  },
  {
   "cell_type": "markdown",
   "metadata": {},
   "source": [
    "Next we will set up the constraints. Avaiblable working hours, machine hours, and the pm( amount produced and sold)\n",
    "The below a 2 by 2 matrix that will correspond to the constrained outlined above. "
   ]
  },
  {
   "cell_type": "code",
   "execution_count": null,
   "metadata": {},
   "outputs": [],
   "source": [
    "const.mat <- matrix(c(30,20,5,10,1,1),ncol=2, byrow=TRUE)"
   ]
  },
  {
   "cell_type": "markdown",
   "metadata": {},
   "source": [
    "Once that is done we will set up the direction meaning greater or less than and equal to signs. This dictate what minimum or maximum each constraint should meet."
   ]
  },
  {
   "cell_type": "code",
   "execution_count": null,
   "metadata": {},
   "outputs": [],
   "source": [
    "const.dir <- c(\"<=\",\"<=\",\">=\")\n"
   ]
  },
  {
   "cell_type": "markdown",
   "metadata": {},
   "source": [
    "Now that we have the direction we want to outline the resource constraints. Think of it as the \"budget\" in other words we must produce at least this amount but cannot go above this amount"
   ]
  },
  {
   "cell_type": "code",
   "execution_count": null,
   "metadata": {},
   "outputs": [],
   "source": [
    "const.rhs <- c(2700,850,95)\n"
   ]
  },
  {
   "cell_type": "markdown",
   "metadata": {},
   "source": [
    "Now that we have set up problem we will use the lp function wich takes in the variable above in order to get a optimal answer. "
   ]
  },
  {
   "cell_type": "code",
   "execution_count": null,
   "metadata": {},
   "outputs": [],
   "source": [
    "prod.solv <- lpSolve::lp(\"max\",objective.in,const.mat,const.dir,const.rhs,compute.sens = TRUE)"
   ]
  },
  {
   "cell_type": "markdown",
   "metadata": {},
   "source": [
    "Lets call the prod.solv variable in order to get the optimal solution for product A and B"
   ]
  },
  {
   "cell_type": "code",
   "execution_count": null,
   "metadata": {},
   "outputs": [],
   "source": [
    "prod.solv$solution"
   ]
  },
  {
   "cell_type": "markdown",
   "metadata": {},
   "source": [
    "Which produces an optimal solution of \n",
    "* 20 units of product A \n",
    "* 75 units of product B"
   ]
  },
  {
   "cell_type": "markdown",
   "metadata": {},
   "source": [
    "In order to visualize the above we would need to find  Where the points for each constraints lie on the x and y axis. After some quick calculations we get the following for each constraints\n",
    "* X1(90,0), X2(170,0),X3(95,0)\n",
    "* Y1(0,135),Y2(0,85),Y3(0,95)\n",
    "\n",
    "        * An example of how we arrived at the above is as follows, same logic would apply for all three constraints\n",
    "        * Lets firs solve for X for the constraint 30x+20y <=2700\n",
    "        * Lets update the equation to have the aboove equal to 2700 and setting y to 0. So we get the following\n",
    "            * 30x+20(0)=2700\n",
    "            *30X=2700\n",
    "            *x=90 (this after dividing 30 on both sides)\n",
    "            * Now lets solve for Y by setting x to 0 and as we did above having the equation equalling to 2700\n",
    "            * 30(0)+20(y)=2700\n",
    "            *20y=2700\n",
    "            *y=135 (this is after dividing both side by 20)\n",
    "\n",
    "For those who prefer the y intercept form we can achive the same as above by changing from standard form to the y-intercept form e.g y=mx+b. \n",
    "\n",
    "* Working hours would be Y(for B) = -1.5*X(represents A)+ 135\n",
    "* Machine Hours would be Y = -1/2*X + 85\n",
    "* Product Manufactured would be y = X+95"
   ]
  },
  {
   "cell_type": "code",
   "execution_count": 11,
   "metadata": {},
   "outputs": [
    {
     "data": {},
     "metadata": {},
     "output_type": "display_data"
    },
    {
     "data": {
      "image/png": "[encoded data removed]",
      "text/plain": [
       "plot without title"
      ]
     },
     "metadata": {},
     "output_type": "display_data"
    }
   ],
   "source": [
    "# We will create a vector with the points \n",
    "intPoint <- data.frame(x=c(20,50,80), y=c(75,60,15))\n",
    "\n",
    "\n",
    "ggplot(data.frame(x=c(0,170)),aes(x)) + \n",
    "  stat_function(fun=function(x) -1.5*x+135, geom=\"line\", aes(col='y=-1.5x+135')) +\n",
    "  stat_function(fun=function(x) -.5*x + 85, geom=\"line\", aes(col='y=-.5x+85')) +\n",
    "  stat_function(fun=function(x)-1*x+95, geom=\"line\", aes(col='y=-1*x+95')) +\n",
    "  geom_vline(xintercept=0, aes(col= 'x=0')) + \n",
    "  geom_hline(yintercept= 0, aes(col='y=0')) + \n",
    "  theme_bw() + \n",
    "  labs(title = 'Optimization Model') + \n",
    "  geom_point(data=intPoint, aes(x,y)) + \n",
    "  annotate('text', x = 20, y = 75, label=\"(20, 75)\", size=3 ) + \n",
    "  annotate('text', x = 50, y = 60, label=\"(50, 60)\", size=3 ) + \n",
    "  annotate('text', x = 80, y = 15, label=\"(80, 15)\", size=3 ) \n"
   ]
  },
  {
   "cell_type": "code",
   "execution_count": 12,
   "metadata": {},
   "outputs": [],
   "source": [
    "S1 <- (20*20)+(75*60)\n",
    "S2 <- (50*20)+(60*60)\n",
    "S3 <- (80*20)+(15*60)\n",
    "\n",
    "items <- c(\"Solution 1\", \"Solution 2\", \"Solution 3\")\n",
    "Product_A <- c(20,50,80)\n",
    "Product_B <- c(75,60,15)\n",
    "Price_A <- rep(20,3)\n",
    "Price_B <- rep(60,3)\n",
    "Total <- c(S1,S2,S3)\n",
    "Answer <- data.frame(items,Product_A,Price_A,Product_B,Price_B,Total)"
   ]
  },
  {
   "cell_type": "code",
   "execution_count": 13,
   "metadata": {},
   "outputs": [
    {
     "data": {
      "text/html": [
       "<table>\n",
       "<thead><tr><th scope=col>items</th><th scope=col>Product_A</th><th scope=col>Price_A</th><th scope=col>Product_B</th><th scope=col>Price_B</th><th scope=col>Total</th></tr></thead>\n",
       "<tbody>\n",
       "\t<tr><td>Solution 1</td><td>20        </td><td>20        </td><td>75        </td><td>60        </td><td>4900      </td></tr>\n",
       "\t<tr><td>Solution 2</td><td>50        </td><td>20        </td><td>60        </td><td>60        </td><td>4600      </td></tr>\n",
       "\t<tr><td>Solution 3</td><td>80        </td><td>20        </td><td>15        </td><td>60        </td><td>2500      </td></tr>\n",
       "</tbody>\n",
       "</table>\n"
      ],
      "text/latex": [
       "\\begin{tabular}{r|llllll}\n",
       " items & Product\\_A & Price\\_A & Product\\_B & Price\\_B & Total\\\\\n",
       "\\hline\n",
       "\t Solution 1 & 20         & 20         & 75         & 60         & 4900      \\\\\n",
       "\t Solution 2 & 50         & 20         & 60         & 60         & 4600      \\\\\n",
       "\t Solution 3 & 80         & 20         & 15         & 60         & 2500      \\\\\n",
       "\\end{tabular}\n"
      ],
      "text/markdown": [
       "\n",
       "items | Product_A | Price_A | Product_B | Price_B | Total | \n",
       "|---|---|---|\n",
       "| Solution 1 | 20         | 20         | 75         | 60         | 4900       | \n",
       "| Solution 2 | 50         | 20         | 60         | 60         | 4600       | \n",
       "| Solution 3 | 80         | 20         | 15         | 60         | 2500       | \n",
       "\n",
       "\n"
      ],
      "text/plain": [
       "  items      Product_A Price_A Product_B Price_B Total\n",
       "1 Solution 1 20        20      75        60      4900 \n",
       "2 Solution 2 50        20      60        60      4600 \n",
       "3 Solution 3 80        20      15        60      2500 "
      ]
     },
     "metadata": {},
     "output_type": "display_data"
    }
   ],
   "source": [
    "Answer"
   ]
  },
  {
   "cell_type": "markdown",
   "metadata": {},
   "source": [
    "# Lets try to increase the variables and solve a similar problem\n",
    "\n",
    "Imagine a factory that produces four different types of wood paneling, L,W,U, and F. Each Type of paneling is made by gluing and pressing together a different mixture of pine and oak chips.\n",
    "\n",
    "Now lets assume the following. For glue 50L+50W+ 100U+ 50F there is a resource constraint of 5800. Pressing capacity 5L+15W+10U+5F there is a resource constraint of 730. For Oak chips 500L+ 750W+250U+500F there is a resource constraint of 60,500. For pine chips 500L+400W+300U+200F there is a resource constraint of 29,200\n",
    "\n",
    "The objective function becomes to maximize profits given the below\n",
    "\n",
    "* M(z): 450L+1150W+800U+400F\n",
    "* Subject to\n",
    "  * Glue     50L+50W+ 100U+ 50F  <=  5800 \n",
    "  * Pressing 5L+ 15W+ 10U + 5F   <=   730 \n",
    "  * Pine     500L+400W+300U+200F <= 29200\n",
    "  * Oak      500L+750W+250U+500F <= 60500"
   ]
  },
  {
   "cell_type": "code",
   "execution_count": 2,
   "metadata": {},
   "outputs": [],
   "source": [
    "#we should have the lpsolve package install and loaded if now please include the below\n",
    "#install.packages(\"lpSolve\",repos=\"http://cran.rstudio.com/\")\n",
    "#library(lpSolve)\n",
    "objective <- c(450, 1150, 800, 400)"
   ]
  },
  {
   "cell_type": "code",
   "execution_count": 15,
   "metadata": {},
   "outputs": [],
   "source": [
    "conMat <- matrix(c(50,50,100,50,5,15,10,5,500,400,300,200,500,750,250,500),ncol=4, byrow= TRUE)"
   ]
  },
  {
   "cell_type": "code",
   "execution_count": 16,
   "metadata": {},
   "outputs": [
    {
     "data": {
      "text/html": [
       "<table>\n",
       "<tbody>\n",
       "\t<tr><td> 50</td><td> 50</td><td>100</td><td> 50</td></tr>\n",
       "\t<tr><td>  5</td><td> 15</td><td> 10</td><td>  5</td></tr>\n",
       "\t<tr><td>500</td><td>400</td><td>300</td><td>200</td></tr>\n",
       "\t<tr><td>500</td><td>750</td><td>250</td><td>500</td></tr>\n",
       "</tbody>\n",
       "</table>\n"
      ],
      "text/latex": [
       "\\begin{tabular}{llll}\n",
       "\t  50 &  50 & 100 &  50\\\\\n",
       "\t   5 &  15 &  10 &   5\\\\\n",
       "\t 500 & 400 & 300 & 200\\\\\n",
       "\t 500 & 750 & 250 & 500\\\\\n",
       "\\end{tabular}\n"
      ],
      "text/markdown": [
       "\n",
       "|  50 |  50 | 100 |  50 | \n",
       "|   5 |  15 |  10 |   5 | \n",
       "| 500 | 400 | 300 | 200 | \n",
       "| 500 | 750 | 250 | 500 | \n",
       "\n",
       "\n"
      ],
      "text/plain": [
       "     [,1] [,2] [,3] [,4]\n",
       "[1,]  50   50  100   50 \n",
       "[2,]   5   15   10    5 \n",
       "[3,] 500  400  300  200 \n",
       "[4,] 500  750  250  500 "
      ]
     },
     "metadata": {},
     "output_type": "display_data"
    }
   ],
   "source": [
    "conMat"
   ]
  },
  {
   "cell_type": "code",
   "execution_count": 17,
   "metadata": {},
   "outputs": [],
   "source": [
    "condir <- c(\"<=\",\"<=\",\"<=\",\"<=\")"
   ]
  },
  {
   "cell_type": "code",
   "execution_count": 18,
   "metadata": {},
   "outputs": [],
   "source": [
    "conrhs <- c(5800,730,29200,60500)"
   ]
  },
  {
   "cell_type": "code",
   "execution_count": 19,
   "metadata": {},
   "outputs": [],
   "source": [
    "prod.sol <- lpSolve::lp(direction='max',objective,conMat,condir,conrhs,compute.sen= TRUE)"
   ]
  },
  {
   "cell_type": "code",
   "execution_count": 20,
   "metadata": {},
   "outputs": [
    {
     "data": {
      "text/plain": [
       "Success: the objective function is 58800 "
      ]
     },
     "metadata": {},
     "output_type": "display_data"
    }
   ],
   "source": [
    "prod.sol"
   ]
  },
  {
   "cell_type": "code",
   "execution_count": 21,
   "metadata": {},
   "outputs": [
    {
     "data": {
      "text/html": [
       "<ol class=list-inline>\n",
       "\t<li>23</li>\n",
       "\t<li>15</li>\n",
       "\t<li>39</li>\n",
       "\t<li>0</li>\n",
       "</ol>\n"
      ],
      "text/latex": [
       "\\begin{enumerate*}\n",
       "\\item 23\n",
       "\\item 15\n",
       "\\item 39\n",
       "\\item 0\n",
       "\\end{enumerate*}\n"
      ],
      "text/markdown": [
       "1. 23\n",
       "2. 15\n",
       "3. 39\n",
       "4. 0\n",
       "\n",
       "\n"
      ],
      "text/plain": [
       "[1] 23 15 39  0"
      ]
     },
     "metadata": {},
     "output_type": "display_data"
    }
   ],
   "source": [
    "prod.sol$solution"
   ]
  },
  {
   "cell_type": "markdown",
   "metadata": {},
   "source": [
    "We can see when the number of variables increase, actually calling all of them may end up becoming very tedious and cumbersome. When we need room for more flexibility the lpsolve package also allows room to account for such scenarios\n",
    "\n",
    "Lets consider a transportation problem of two origins A and B, and three destinations 1,2, and 3. The cost of transporting one unit from the origin i and the destination j are outlined below. As well as the maximal capacity of the origins and the required demand in the destination\n",
    "\n",
    "The objective function then becomes how we must cover demand of the destinations at a minimal cost\n",
    "\n",
    " * Min = 8xa1+6xa2+3xa3+2xb1+4xb2+9xb3\n",
    " * st(Subject to)\n",
    "  * CA xa1+xa2+xa3 <= 70\n",
    "  * CB xb1+xb2+xb3 <= 40\n",
    "  * D1 xa1+xb1 >= 40\n",
    "  * D2 xa2 +xb2 >= 35\n",
    "  * D3 xa3+xb3 >= 25\n",
    "  * Xij >=0"
   ]
  },
  {
   "cell_type": "markdown",
   "metadata": {},
   "source": [
    "**First lets set the objective function**\n"
   ]
  },
  {
   "cell_type": "code",
   "execution_count": 43,
   "metadata": {},
   "outputs": [],
   "source": [
    "objective <- c(8,6,3,2,4,9)\n",
    "\n",
    "# the below list out the constraints and available variable. M represents the origin locations available \n",
    "#while N represents the destination locations available\n",
    "\n",
    "m <-2\n",
    "n <- 3"
   ]
  },
  {
   "cell_type": "markdown",
   "metadata": {},
   "source": [
    "**Next lets list out the constraint matrix**\n",
    "This is where we start noticing the differences from our first linear programming example. Below we will outline the constraint matrix of 0, the rows within the matrix will be n+m( in this case 5), the columns will n*m(in this case 6)\n",
    "\n",
    "#lets breakdown the below for i in 1:m. Meaning for every one origin selected from the availabe origin set\n",
    "#and for every j, meaning for every one destination selected in the available selection set. Lets outline the below constraints. We set both constraints to 1 as the number of origin location to be selected and the corresponding destination location to be selected"
   ]
  },
  {
   "cell_type": "code",
   "execution_count": 44,
   "metadata": {},
   "outputs": [],
   "source": [
    "constr <- matrix(0, n+m, n*m)\n",
    "\n",
    "for(i in 1:m){\n",
    "    for(j in 1:n){\n",
    "        constr[i, n*(i-1)+j] <- 1\n",
    "        constr[m+j,n*(i-1)+j] <- 1\n",
    "    }\n",
    "}"
   ]
  },
  {
   "cell_type": "markdown",
   "metadata": {},
   "source": [
    "Now that we have set our constraints, similar to the above lets outline the direction i.e. greater than or less than. Also note we are referencing the corresponding variable M and N. In the first we outline that the capacity of the origin destinations must be less than or equal to the given origin location. While the second outline the demand in other words the demand delivered must be greater than or equal to demand of that destination location"
   ]
  },
  {
   "cell_type": "code",
   "execution_count": 45,
   "metadata": {},
   "outputs": [],
   "source": [
    "constrdir <- c(rep(\"<=\",m), rep(\">=\", n))"
   ]
  },
  {
   "cell_type": "markdown",
   "metadata": {},
   "source": [
    "Below we will set out our \"Budget\" for each resource"
   ]
  },
  {
   "cell_type": "code",
   "execution_count": 46,
   "metadata": {},
   "outputs": [],
   "source": [
    "constrrhs <- c(70,40,40,35,25)"
   ]
  },
  {
   "cell_type": "markdown",
   "metadata": {},
   "source": [
    "Now that we have outlined both our objective function and our constraints. We will solve for the optimal solution similar to the above by calling on the lp function"
   ]
  },
  {
   "cell_type": "code",
   "execution_count": 47,
   "metadata": {},
   "outputs": [],
   "source": [
    "prod.sol2 <- lpSolve::lp(direction='min',objective,constr,constrdir,constrrhs,compute.sens = TRUE)"
   ]
  },
  {
   "cell_type": "code",
   "execution_count": 48,
   "metadata": {},
   "outputs": [
    {
     "data": {
      "text/html": [
       "<ol class=list-inline>\n",
       "\t<li>0</li>\n",
       "\t<li>35</li>\n",
       "\t<li>25</li>\n",
       "\t<li>40</li>\n",
       "\t<li>0</li>\n",
       "\t<li>0</li>\n",
       "</ol>\n"
      ],
      "text/latex": [
       "\\begin{enumerate*}\n",
       "\\item 0\n",
       "\\item 35\n",
       "\\item 25\n",
       "\\item 40\n",
       "\\item 0\n",
       "\\item 0\n",
       "\\end{enumerate*}\n"
      ],
      "text/markdown": [
       "1. 0\n",
       "2. 35\n",
       "3. 25\n",
       "4. 40\n",
       "5. 0\n",
       "6. 0\n",
       "\n",
       "\n"
      ],
      "text/plain": [
       "[1]  0 35 25 40  0  0"
      ]
     },
     "metadata": {},
     "output_type": "display_data"
    }
   ],
   "source": [
    "prod.sol2$solution"
   ]
  },
  {
   "cell_type": "code",
   "execution_count": 49,
   "metadata": {},
   "outputs": [],
   "source": [
    "sol <- matrix(prod.sol2$solution,m,n, byrow= TRUE)"
   ]
  },
  {
   "cell_type": "code",
   "execution_count": 53,
   "metadata": {},
   "outputs": [],
   "source": [
    "City <- c(\"CA\",\"CB\")"
   ]
  },
  {
   "cell_type": "code",
   "execution_count": 54,
   "metadata": {},
   "outputs": [],
   "source": [
    "Answer3 <- data.frame(City,sol)"
   ]
  },
  {
   "cell_type": "code",
   "execution_count": 55,
   "metadata": {},
   "outputs": [
    {
     "data": {
      "text/html": [
       "<table>\n",
       "<thead><tr><th scope=col>City</th><th scope=col>X1</th><th scope=col>X2</th><th scope=col>X3</th></tr></thead>\n",
       "<tbody>\n",
       "\t<tr><td>CA</td><td> 0</td><td>35</td><td>25</td></tr>\n",
       "\t<tr><td>CB</td><td>40</td><td> 0</td><td> 0</td></tr>\n",
       "</tbody>\n",
       "</table>\n"
      ],
      "text/latex": [
       "\\begin{tabular}{r|llll}\n",
       " City & X1 & X2 & X3\\\\\n",
       "\\hline\n",
       "\t CA &  0 & 35 & 25\\\\\n",
       "\t CB & 40 &  0 &  0\\\\\n",
       "\\end{tabular}\n"
      ],
      "text/markdown": [
       "\n",
       "City | X1 | X2 | X3 | \n",
       "|---|---|\n",
       "| CA |  0 | 35 | 25 | \n",
       "| CB | 40 |  0 |  0 | \n",
       "\n",
       "\n"
      ],
      "text/plain": [
       "  City X1 X2 X3\n",
       "1 CA    0 35 25\n",
       "2 CB   40  0  0"
      ]
     },
     "metadata": {},
     "output_type": "display_data"
    }
   ],
   "source": [
    "Answer3"
   ]
  },
  {
   "cell_type": "markdown",
   "metadata": {},
   "source": [
    "Above we can see an optimal solution that meets all constraints."
   ]
  },
  {
   "cell_type": "markdown",
   "metadata": {},
   "source": [
    "Now lets assume we wanted to visualize the network above. Meaning Origin to destination. We can do so using the igraph package in R"
   ]
  },
  {
   "cell_type": "code",
   "execution_count": 56,
   "metadata": {},
   "outputs": [],
   "source": [
    "NetworkSolution1 <- igraph::graph(edge=c(\"CA\",\"35\", \"CA\",\"25\", \"CB\",\"40\"), directed =T)\n",
    "\n"
   ]
  },
  {
   "cell_type": "code",
   "execution_count": 57,
   "metadata": {},
   "outputs": [
    {
     "data": {
      "image/png": "[encoded data removed]",
      "text/plain": [
       "Plot with title \"\""
      ]
     },
     "metadata": {},
     "output_type": "display_data"
    }
   ],
   "source": [
    "plot(NetworkSolution1)"
   ]
  },
  {
   "cell_type": "markdown",
   "metadata": {},
   "source": [
    "# Let's try one more using the above framework\n",
    "\n",
    "Wheat is harvested in the midwest and stored in grain elevators in three differnect cities. These grain elevators supply three flour mills. Grain is shipped to the mills in rail road cars, each car capable of holding one ton of wheat. The Supply constrints are as follows\n",
    "\n",
    "Elevator 1 = 150\n",
    "Elevator 2 = 175\n",
    "Elevator 3 = 275\n",
    " \n",
    "Demand Constraint are as follows\n",
    "City     1 = 200\n",
    "City     2 = 100\n",
    "City     3 = 300\n",
    "The problem is to determine how many tons of wheat to transport from each grain elavator to each mill on a monthly basis in order to minimize  total cost of transportation.\n",
    "\n",
    "* Min(z) =6x1a +8x1b+10x1c+7x2a+11x2b+11x2c+4x3a+5x3b+12x3c\n",
    "* Subject to\n",
    "    * x1a+x1b+x1c = 150\n",
    "    * x2a+x2b+x2c = 175\n",
    "    * x3A+x3b+x3c = 275\n",
    "    * x1a+x2a+x3a = 200\n",
    "    * x1b+x2b+x3b = 100\n",
    "    * x1c+x2c+x3c = 300\n",
    "    * xij>=0 #non negative constraints\n",
    "    "
   ]
  },
  {
   "cell_type": "code",
   "execution_count": 29,
   "metadata": {},
   "outputs": [],
   "source": [
    "objective3 <- c(6,8,10,7,11,11,4,5,12)\n",
    "\n",
    "m <- 3\n",
    "\n",
    "n <- 3\n"
   ]
  },
  {
   "cell_type": "code",
   "execution_count": 30,
   "metadata": {},
   "outputs": [],
   "source": [
    "constr3 <- matrix(0, m+n, m*n)\n",
    "\n",
    "for(i in 1:n){\n",
    "    for(j in 1:m){\n",
    "        constr3[i, n*(i-1)+j]<- 1\n",
    "        constr3[m+j, n*(i-1)+j]<- 1\n",
    "    }\n",
    "}"
   ]
  },
  {
   "cell_type": "code",
   "execution_count": 31,
   "metadata": {},
   "outputs": [],
   "source": [
    "condir3 <- c(\"=\",\"=\",\"=\",\"=\",\"=\",\"=\")"
   ]
  },
  {
   "cell_type": "code",
   "execution_count": 32,
   "metadata": {},
   "outputs": [],
   "source": [
    "consrhs3 <- c(150,175,275,200,100,300)\n"
   ]
  },
  {
   "cell_type": "code",
   "execution_count": 33,
   "metadata": {},
   "outputs": [],
   "source": [
    "prod.sol3 <- lpSolve::lp(direction = 'min',objective3,constr3,condir3,consrhs3, compute.sens = TRUE)"
   ]
  },
  {
   "cell_type": "code",
   "execution_count": 34,
   "metadata": {},
   "outputs": [],
   "source": [
    "sol3 <- matrix(prod.sol3$solution,m,n, byrow = TRUE)"
   ]
  },
  {
   "cell_type": "code",
   "execution_count": 35,
   "metadata": {},
   "outputs": [],
   "source": [
    "items4 <- c(\"Elevator1\",\"Elevator2\",\"Elevator3\")"
   ]
  },
  {
   "cell_type": "code",
   "execution_count": 36,
   "metadata": {},
   "outputs": [],
   "source": [
    "Answer4 <- data.frame(items4, sol3)"
   ]
  },
  {
   "cell_type": "code",
   "execution_count": 39,
   "metadata": {},
   "outputs": [
    {
     "data": {
      "text/html": [
       "<table>\n",
       "<thead><tr><th scope=col>items4</th><th scope=col>X1</th><th scope=col>X2</th><th scope=col>X3</th></tr></thead>\n",
       "<tbody>\n",
       "\t<tr><td>Elevator1</td><td>  0      </td><td>  0      </td><td>150      </td></tr>\n",
       "\t<tr><td>Elevator2</td><td> 25      </td><td>  0      </td><td>150      </td></tr>\n",
       "\t<tr><td>Elevator3</td><td>175      </td><td>100      </td><td>  0      </td></tr>\n",
       "</tbody>\n",
       "</table>\n"
      ],
      "text/latex": [
       "\\begin{tabular}{r|llll}\n",
       " items4 & X1 & X2 & X3\\\\\n",
       "\\hline\n",
       "\t Elevator1 &   0       &   0       & 150      \\\\\n",
       "\t Elevator2 &  25       &   0       & 150      \\\\\n",
       "\t Elevator3 & 175       & 100       &   0      \\\\\n",
       "\\end{tabular}\n"
      ],
      "text/markdown": [
       "\n",
       "items4 | X1 | X2 | X3 | \n",
       "|---|---|---|\n",
       "| Elevator1 |   0       |   0       | 150       | \n",
       "| Elevator2 |  25       |   0       | 150       | \n",
       "| Elevator3 | 175       | 100       |   0       | \n",
       "\n",
       "\n"
      ],
      "text/plain": [
       "  items4    X1  X2  X3 \n",
       "1 Elevator1   0   0 150\n",
       "2 Elevator2  25   0 150\n",
       "3 Elevator3 175 100   0"
      ]
     },
     "metadata": {},
     "output_type": "display_data"
    }
   ],
   "source": [
    "Answer4"
   ]
  },
  {
   "cell_type": "code",
   "execution_count": 40,
   "metadata": {},
   "outputs": [],
   "source": [
    "NetworkSol2 <- igraph::graph(edge=c(\"Elevator1\",\"City3\", \"Elevator2\",\"City1\", \"Elevator2\",\"City3\", \"Elevator3\",\"City1\", \"Elevator3\",\"City2\"), directed= T)"
   ]
  },
  {
   "cell_type": "code",
   "execution_count": 41,
   "metadata": {},
   "outputs": [
    {
     "data": {
      "image/png": "[encoded data removed]",
      "text/plain": [
       "Plot with title \"\""
      ]
     },
     "metadata": {},
     "output_type": "display_data"
    }
   ],
   "source": [
    "plot(NetworkSol2)"
   ]
  },
  {
   "cell_type": "markdown",
   "metadata": {},
   "source": [
    "# Congrats! you were able to walk through some scenarios that helps produce optimal solutions"
   ]
  }
 ],
 "metadata": {
  "kernelspec": {
   "display_name": "R",
   "language": "R",
   "name": "ir"
  },
  "language_info": {
   "codemirror_mode": "r",
   "file_extension": ".r",
   "mimetype": "text/x-r-source",
   "name": "R",
   "pygments_lexer": "r",
   "version": "3.5.1"
  }
 },
 "nbformat": 4,
 "nbformat_minor": 2
}
